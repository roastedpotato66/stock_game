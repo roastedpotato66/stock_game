{
 "cells": [
  {
   "cell_type": "code",
   "execution_count": 50,
   "metadata": {
    "collapsed": true
   },
   "outputs": [],
   "source": [
    "import pandas as pd\n",
    "import datetime as dt\n",
    "from dateutil.relativedelta import relativedelta\n",
    "import yfinance as yf\n",
    "import matplotlib.pyplot as plt\n",
    "import seaborn as sns"
   ]
  },
  {
   "cell_type": "code",
   "execution_count": 34,
   "outputs": [
    {
     "name": "stdout",
     "output_type": "stream",
     "text": [
      "[*********************100%***********************]  1 of 1 completed\n",
      "[*********************100%***********************]  1 of 1 completed\n"
     ]
    }
   ],
   "source": [
    "stock_name = input('What is your stock ticker?').upper()\n",
    "start = dt.datetime.strptime(input(\"Enter your start date!\"), \"%Y,%m,%d\")\n",
    "end = input(\"Enter your start date!\").upper()\n",
    "index_name = 'SPY'\n",
    "if end == 'TODAY':\n",
    "    end = dt.datetime.today()\n",
    "else:\n",
    "    end = dt.datetime.strptime(end, \"%Y,%m,%d\")\n",
    "\n",
    "my_stock = yf.download(stock_name, start=start, end=end)\n",
    "index = yf.download(index_name, start=start, end=end)\n",
    "\n",
    "my_price_change = (my_stock.iloc[-1, 3] - my_stock.iloc[0, 0]) / my_stock.iloc[0, 0]\n",
    "index_price_change = (index.iloc[-1, 3] - index.iloc[0, 0]) / index.iloc[0, 0]"
   ],
   "metadata": {
    "collapsed": false
   }
  },
  {
   "cell_type": "code",
   "execution_count": 35,
   "outputs": [
    {
     "data": {
      "text/plain": "                                 Open        High         Low       Close  \\\nDate                                                                        \n2023-01-19 00:00:00-05:00  233.779999  235.520004  230.679993  231.929993   \n2023-01-20 00:00:00-05:00  234.860001  240.740005  234.509995  240.220001   \n2023-01-23 00:00:00-05:00  241.100006  245.169998  239.649994  242.580002   \n2023-01-24 00:00:00-05:00  242.500000  243.949997  240.440002  242.039993   \n2023-01-25 00:00:00-05:00  234.479996  243.270004  230.899994  240.610001   \n\n                            Adj Close    Volume  \nDate                                             \n2023-01-19 00:00:00-05:00  231.929993  28623000  \n2023-01-20 00:00:00-05:00  240.220001  35323400  \n2023-01-23 00:00:00-05:00  242.580002  31934000  \n2023-01-24 00:00:00-05:00  242.039993  40234400  \n2023-01-25 00:00:00-05:00  240.610001  66395180  ",
      "text/html": "<div>\n<style scoped>\n    .dataframe tbody tr th:only-of-type {\n        vertical-align: middle;\n    }\n\n    .dataframe tbody tr th {\n        vertical-align: top;\n    }\n\n    .dataframe thead th {\n        text-align: right;\n    }\n</style>\n<table border=\"1\" class=\"dataframe\">\n  <thead>\n    <tr style=\"text-align: right;\">\n      <th></th>\n      <th>Open</th>\n      <th>High</th>\n      <th>Low</th>\n      <th>Close</th>\n      <th>Adj Close</th>\n      <th>Volume</th>\n    </tr>\n    <tr>\n      <th>Date</th>\n      <th></th>\n      <th></th>\n      <th></th>\n      <th></th>\n      <th></th>\n      <th></th>\n    </tr>\n  </thead>\n  <tbody>\n    <tr>\n      <th>2023-01-19 00:00:00-05:00</th>\n      <td>233.779999</td>\n      <td>235.520004</td>\n      <td>230.679993</td>\n      <td>231.929993</td>\n      <td>231.929993</td>\n      <td>28623000</td>\n    </tr>\n    <tr>\n      <th>2023-01-20 00:00:00-05:00</th>\n      <td>234.860001</td>\n      <td>240.740005</td>\n      <td>234.509995</td>\n      <td>240.220001</td>\n      <td>240.220001</td>\n      <td>35323400</td>\n    </tr>\n    <tr>\n      <th>2023-01-23 00:00:00-05:00</th>\n      <td>241.100006</td>\n      <td>245.169998</td>\n      <td>239.649994</td>\n      <td>242.580002</td>\n      <td>242.580002</td>\n      <td>31934000</td>\n    </tr>\n    <tr>\n      <th>2023-01-24 00:00:00-05:00</th>\n      <td>242.500000</td>\n      <td>243.949997</td>\n      <td>240.440002</td>\n      <td>242.039993</td>\n      <td>242.039993</td>\n      <td>40234400</td>\n    </tr>\n    <tr>\n      <th>2023-01-25 00:00:00-05:00</th>\n      <td>234.479996</td>\n      <td>243.270004</td>\n      <td>230.899994</td>\n      <td>240.610001</td>\n      <td>240.610001</td>\n      <td>66395180</td>\n    </tr>\n  </tbody>\n</table>\n</div>"
     },
     "execution_count": 35,
     "metadata": {},
     "output_type": "execute_result"
    }
   ],
   "source": [
    "my_stock.head()"
   ],
   "metadata": {
    "collapsed": false
   }
  },
  {
   "cell_type": "code",
   "execution_count": 36,
   "outputs": [
    {
     "data": {
      "text/plain": "                                 Open        High         Low       Close  \\\nDate                                                                        \n2023-01-19 00:00:00-05:00  389.359985  391.079987  387.260010  388.640015   \n2023-01-20 00:00:00-05:00  390.100006  396.040009  388.380005  395.880005   \n2023-01-23 00:00:00-05:00  396.720001  402.649994  395.720001  400.630005   \n2023-01-24 00:00:00-05:00  398.880005  401.149994  397.640015  400.200012   \n2023-01-25 00:00:00-05:00  395.950012  400.700012  393.559998  400.350006   \n\n                            Adj Close    Volume  \nDate                                             \n2023-01-19 00:00:00-05:00  388.640015  86958900  \n2023-01-20 00:00:00-05:00  395.880005  91544900  \n2023-01-23 00:00:00-05:00  400.630005  84178800  \n2023-01-24 00:00:00-05:00  400.200012  59524900  \n2023-01-25 00:00:00-05:00  400.350006  80859486  ",
      "text/html": "<div>\n<style scoped>\n    .dataframe tbody tr th:only-of-type {\n        vertical-align: middle;\n    }\n\n    .dataframe tbody tr th {\n        vertical-align: top;\n    }\n\n    .dataframe thead th {\n        text-align: right;\n    }\n</style>\n<table border=\"1\" class=\"dataframe\">\n  <thead>\n    <tr style=\"text-align: right;\">\n      <th></th>\n      <th>Open</th>\n      <th>High</th>\n      <th>Low</th>\n      <th>Close</th>\n      <th>Adj Close</th>\n      <th>Volume</th>\n    </tr>\n    <tr>\n      <th>Date</th>\n      <th></th>\n      <th></th>\n      <th></th>\n      <th></th>\n      <th></th>\n      <th></th>\n    </tr>\n  </thead>\n  <tbody>\n    <tr>\n      <th>2023-01-19 00:00:00-05:00</th>\n      <td>389.359985</td>\n      <td>391.079987</td>\n      <td>387.260010</td>\n      <td>388.640015</td>\n      <td>388.640015</td>\n      <td>86958900</td>\n    </tr>\n    <tr>\n      <th>2023-01-20 00:00:00-05:00</th>\n      <td>390.100006</td>\n      <td>396.040009</td>\n      <td>388.380005</td>\n      <td>395.880005</td>\n      <td>395.880005</td>\n      <td>91544900</td>\n    </tr>\n    <tr>\n      <th>2023-01-23 00:00:00-05:00</th>\n      <td>396.720001</td>\n      <td>402.649994</td>\n      <td>395.720001</td>\n      <td>400.630005</td>\n      <td>400.630005</td>\n      <td>84178800</td>\n    </tr>\n    <tr>\n      <th>2023-01-24 00:00:00-05:00</th>\n      <td>398.880005</td>\n      <td>401.149994</td>\n      <td>397.640015</td>\n      <td>400.200012</td>\n      <td>400.200012</td>\n      <td>59524900</td>\n    </tr>\n    <tr>\n      <th>2023-01-25 00:00:00-05:00</th>\n      <td>395.950012</td>\n      <td>400.700012</td>\n      <td>393.559998</td>\n      <td>400.350006</td>\n      <td>400.350006</td>\n      <td>80859486</td>\n    </tr>\n  </tbody>\n</table>\n</div>"
     },
     "execution_count": 36,
     "metadata": {},
     "output_type": "execute_result"
    }
   ],
   "source": [
    "index.head()"
   ],
   "metadata": {
    "collapsed": false
   }
  },
  {
   "cell_type": "code",
   "execution_count": 37,
   "outputs": [
    {
     "data": {
      "text/plain": "Date\n2023-01-19 00:00:00-05:00   -0.184911\n2023-01-20 00:00:00-05:00    1.674548\n2023-01-23 00:00:00-05:00    2.894499\n2023-01-24 00:00:00-05:00    2.784063\n2023-01-25 00:00:00-05:00    2.822586\nName: Change, dtype: float64"
     },
     "execution_count": 37,
     "metadata": {},
     "output_type": "execute_result"
    }
   ],
   "source": [
    "for i in range(len(my_stock)):\n",
    "    my_stock['Change'] = ((my_stock['Close'] - my_stock['Open'][0]) / my_stock['Open'][0]) *100\n",
    "for i in range(len(index)):\n",
    "    index['Change'] = ((index['Close'] - index['Open'][0]) / index['Open'][0]) *100\n",
    "index['Change']"
   ],
   "metadata": {
    "collapsed": false
   }
  },
  {
   "cell_type": "code",
   "execution_count": 44,
   "outputs": [
    {
     "data": {
      "text/plain": "<Figure size 640x480 with 1 Axes>",
      "image/png": "[encoded data removed]"
     },
     "metadata": {},
     "output_type": "display_data"
    }
   ],
   "source": [
    "sns.lineplot(x='Date', y='Change', data=my_stock, label=stock_name)\n",
    "sns.lineplot(x='Date', y='Change', data=index, label=index_name)\n",
    "plt.xticks(rotation=45)\n",
    "plt.axhline(0, color='grey', linestyle='--')\n",
    "plt.legend()\n",
    "plt.show()"
   ],
   "metadata": {
    "collapsed": false
   }
  },
  {
   "cell_type": "code",
   "execution_count": 59,
   "outputs": [
    {
     "name": "stdout",
     "output_type": "stream",
     "text": [
      "2022-01-25 20:41:19.851644 2023-01-25 20:41:19.851644\n"
     ]
    }
   ],
   "source": [
    "y_n = input(\"Do you want look at stock movement in one period of time, I can calculate for you if you type 'y', otherwise type 'n'\")\n",
    "if y_n == 'y':\n",
    "    start_or_end = input(\"Type 1 to start from start date, type 2 to start from end date\")\n",
    "    valid_input = False\n",
    "    if start_or_end == '1':\n",
    "        start = dt.datetime.strptime(input(\"Enter your start date!\"), \"%Y,%m,%d\")\n",
    "        while not valid_input:\n",
    "            period_format = input(\"type 'd' for week, type 'w' for week, type 'm' for month, and type 'y' for year!\")\n",
    "            if period_format == 'd':\n",
    "                unit_period = input(\"How many days?\")\n",
    "                end = start + relativedelta(days= int(unit_period))\n",
    "                valid_input = True\n",
    "            elif period_format == 'w':\n",
    "                unit_period = input(\"How many weeks?\")\n",
    "                end = start + relativedelta(weeks= int(unit_period))\n",
    "                valid_input = True\n",
    "            elif period_format == 'm':\n",
    "                unit_period = input(\"How many months?\")\n",
    "                end = start + relativedelta(months = int(unit_period))\n",
    "                valid_input = True\n",
    "            elif period_format == 'y':\n",
    "                unit_period = input(\"How many years?\")\n",
    "                end = start + relativedelta(years = int(unit_period))\n",
    "                valid_input = True\n",
    "            else:\n",
    "                print('Please type d, w, m or y!')\n",
    "    elif start_or_end == '2':\n",
    "        end = input(\"Enter your start date!\").upper()\n",
    "        if end == 'TODAY':\n",
    "            end = dt.datetime.today()\n",
    "        else:\n",
    "            end = dt.datetime.strptime(end, \"%Y,%m,%d\")\n",
    "        while not valid_input:\n",
    "            period_format = input(\"type 'd' for week, type 'w' for week, type 'm' for month, and type 'y' for year!\")\n",
    "            if period_format == 'd':\n",
    "                unit_period = input(\"How many days?\")\n",
    "                start = end - relativedelta(days= int(unit_period))\n",
    "                valid_input = True\n",
    "            elif period_format == 'w':\n",
    "                unit_period = input(\"How many weeks?\")\n",
    "                start = end - relativedelta(weeks= int(unit_period))\n",
    "                valid_input = True\n",
    "            elif period_format == 'm':\n",
    "                unit_period = input(\"How many months?\")\n",
    "                start = end - relativedelta(months = int(unit_period))\n",
    "                valid_input = True\n",
    "            elif period_format == 'y':\n",
    "                unit_period = input(\"How many years?\")\n",
    "                start = end - relativedelta(years = int(unit_period))\n",
    "                valid_input = True\n",
    "            else:\n",
    "                print('Please type d, w, m or y!')\n",
    "else:\n",
    "    start = dt.datetime.strptime(input(\"Enter your start date!\"), \"%Y,%m,%d\")\n",
    "    end = input(\"Enter your start date!\").upper()\n",
    "    if end == 'TODAY':\n",
    "        end = dt.datetime.today()\n",
    "    else:\n",
    "        end = dt.datetime.strptime(end, \"%Y,%m,%d\")\n",
    "print(start, end)"
   ],
   "metadata": {
    "collapsed": false
   }
  },
  {
   "cell_type": "code",
   "execution_count": 60,
   "outputs": [
    {
     "name": "stdout",
     "output_type": "stream",
     "text": [
      "[*********************100%***********************]  1 of 1 completed\n"
     ]
    },
    {
     "data": {
      "text/plain": "                                  Open         High          Low        Close  \\\nDate                                                                            \n2023-01-25 00:00:00-05:00  3982.709961  4019.550049  3949.060059  4016.219971   \n\n                             Adj Close      Volume  \nDate                                                \n2023-01-25 00:00:00-05:00  4016.219971  2416510578  ",
      "text/html": "<div>\n<style scoped>\n    .dataframe tbody tr th:only-of-type {\n        vertical-align: middle;\n    }\n\n    .dataframe tbody tr th {\n        vertical-align: top;\n    }\n\n    .dataframe thead th {\n        text-align: right;\n    }\n</style>\n<table border=\"1\" class=\"dataframe\">\n  <thead>\n    <tr style=\"text-align: right;\">\n      <th></th>\n      <th>Open</th>\n      <th>High</th>\n      <th>Low</th>\n      <th>Close</th>\n      <th>Adj Close</th>\n      <th>Volume</th>\n    </tr>\n    <tr>\n      <th>Date</th>\n      <th></th>\n      <th></th>\n      <th></th>\n      <th></th>\n      <th></th>\n      <th></th>\n    </tr>\n  </thead>\n  <tbody>\n    <tr>\n      <th>2023-01-25 00:00:00-05:00</th>\n      <td>3982.709961</td>\n      <td>4019.550049</td>\n      <td>3949.060059</td>\n      <td>4016.219971</td>\n      <td>4016.219971</td>\n      <td>2416510578</td>\n    </tr>\n  </tbody>\n</table>\n</div>"
     },
     "execution_count": 60,
     "metadata": {},
     "output_type": "execute_result"
    }
   ],
   "source": [
    "index = yf.download(\"^SPX\", start=start, end=end)\n",
    "index"
   ],
   "metadata": {
    "collapsed": false
   }
  },
  {
   "cell_type": "code",
   "execution_count": null,
   "outputs": [],
   "source": [],
   "metadata": {
    "collapsed": false
   }
  }
 ],
 "metadata": {
  "kernelspec": {
   "display_name": "Python 3",
   "language": "python",
   "name": "python3"
  },
  "language_info": {
   "codemirror_mode": {
    "name": "ipython",
    "version": 2
   },
   "file_extension": ".py",
   "mimetype": "text/x-python",
   "name": "python",
   "nbconvert_exporter": "python",
   "pygments_lexer": "ipython2",
   "version": "2.7.6"
  }
 },
 "nbformat": 4,
 "nbformat_minor": 0
}
